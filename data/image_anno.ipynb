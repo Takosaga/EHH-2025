{
 "cells": [
  {
   "cell_type": "code",
   "execution_count": 1,
   "metadata": {},
   "outputs": [
    {
     "ename": "ModuleNotFoundError",
     "evalue": "No module named 'cv2'",
     "output_type": "error",
     "traceback": [
      "\u001b[0;31m---------------------------------------------------------------------------\u001b[0m",
      "\u001b[0;31mModuleNotFoundError\u001b[0m                       Traceback (most recent call last)",
      "Cell \u001b[0;32mIn[1], line 1\u001b[0m\n\u001b[0;32m----> 1\u001b[0m \u001b[38;5;28;01mimport\u001b[39;00m\u001b[38;5;250m \u001b[39m\u001b[38;5;21;01mcv2\u001b[39;00m\n\u001b[1;32m      2\u001b[0m \u001b[38;5;28;01mimport\u001b[39;00m\u001b[38;5;250m \u001b[39m\u001b[38;5;21;01mos\u001b[39;00m\n\u001b[1;32m      4\u001b[0m \u001b[38;5;28;01mdef\u001b[39;00m\u001b[38;5;250m \u001b[39m\u001b[38;5;21mvisualize_yolo_annotations\u001b[39m(image_path, annotation_path, class_names):\n",
      "\u001b[0;31mModuleNotFoundError\u001b[0m: No module named 'cv2'"
     ]
    }
   ],
   "source": [
    "import cv2\n",
    "import os\n",
    "\n",
    "def visualize_yolo_annotations(image_path, annotation_path, class_names):\n",
    "    \"\"\"\n",
    "    Visualizes YOLO annotations on an image.\n",
    "\n",
    "    Args:\n",
    "        image_path (str): Path to the image file.\n",
    "        annotation_path (str): Path to the corresponding annotation file.\n",
    "        class_names (list): List of class names.\n",
    "    \"\"\"\n",
    "\n",
    "    try:\n",
    "        img = cv2.imread(image_path)\n",
    "        height, width, _ = img.shape\n",
    "\n",
    "        with open(annotation_path, 'r') as f:\n",
    "            for line in f:\n",
    "                data = line.strip().split()\n",
    "                class_id = int(data[0])\n",
    "                x_center = float(data[1])\n",
    "                y_center = float(data[2])\n",
    "                box_width = float(data[3])\n",
    "                box_height = float(data[4])\n",
    "\n",
    "                x1 = int((x_center - box_width / 2) * width)\n",
    "                y1 = int((y_center - box_height / 2) * height)\n",
    "                x2 = int((x_center + box_width / 2) * width)\n",
    "                y2 = int((y_center + box_height / 2) * height)\n",
    "\n",
    "                color = (0, 255, 0)  # Green bounding box\n",
    "                cv2.rectangle(img, (x1, y1), (x2, y2), color, 2)\n",
    "\n",
    "                # Add class label\n",
    "                label = class_names[class_id]\n",
    "                cv2.putText(img, label, (x1, y1 - 10), cv2.FONT_HERSHEY_SIMPLEX, 0.5, color, 2)\n",
    "\n",
    "        cv2.imshow(\"YOLO Annotations\", img)\n",
    "        cv2.waitKey(0)\n",
    "        cv2.destroyAllWindows()\n",
    "\n",
    "    except FileNotFoundError:\n",
    "        print(f\"Error: File not found - {image_path} or {annotation_path}\")\n",
    "    except Exception as e:\n",
    "        print(f\"An error occured: {e}\")\n",
    "\n",
    "# Example usage:\n",
    "\n",
    "# 1. Define your class names (matching the class IDs in your annotations)\n",
    "class_names = [\"person\", \"car\", \"bicycle\"] #example class names\n",
    "\n",
    "# 2. Define the paths to your image and annotation files.\n",
    "image_dir = \"path/to/your/images\" #replace with your image directory\n",
    "annotations_dir = \"path/to/your/labels\" #replace with your labels directory\n",
    "\n",
    "#3. loop through your images and labels. Be sure they have the same names.\n",
    "image_files = [f for f in os.listdir(image_dir) if f.lower().endswith(('.png', '.jpg', '.jpeg'))]\n",
    "\n",
    "for image_file in image_files:\n",
    "    image_path = os.path.join(image_dir, image_file)\n",
    "    annotation_file = os.path.splitext(image_file)[0] + \".txt\" #assuming .txt annotations\n",
    "    annotation_path = os.path.join(annotations_dir, annotation_file)\n",
    "\n",
    "    if os.path.exists(annotation_path):\n",
    "        visualize_yolo_annotations(image_path, annotation_path, class_names)\n",
    "    else:\n",
    "        print(f\"Annotation file not found: {annotation_path}\")"
   ]
  }
 ],
 "metadata": {
  "kernelspec": {
   "display_name": "ai_workshop",
   "language": "python",
   "name": "python3"
  },
  "language_info": {
   "codemirror_mode": {
    "name": "ipython",
    "version": 3
   },
   "file_extension": ".py",
   "mimetype": "text/x-python",
   "name": "python",
   "nbconvert_exporter": "python",
   "pygments_lexer": "ipython3",
   "version": "3.11.11"
  }
 },
 "nbformat": 4,
 "nbformat_minor": 2
}
