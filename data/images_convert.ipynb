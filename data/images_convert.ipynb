{
 "cells": [
  {
   "cell_type": "code",
   "execution_count": 6,
   "metadata": {},
   "outputs": [],
   "source": [
    "from PIL import Image\n",
    "import glob\n",
    "import os\n",
    "\n",
    "# Paths\n",
    "input_folder = \"images/val/\"  # Change for val or test\n",
    "output_folder = \"images/val/\"  # New folder for PNGs\n",
    "\n",
    "# Ensure output folder exists\n",
    "os.makedirs(output_folder, exist_ok=True)\n",
    "\n",
    "# Convert TIFF to PNG\n",
    "tiff_files = glob.glob(os.path.join(input_folder, \"*.tiff\"))\n",
    "\n",
    "for tiff_file in tiff_files:\n",
    "    img = Image.open(tiff_file)\n",
    "    png_file = os.path.join(output_folder, os.path.basename(tiff_file).replace(\".tiff\", \".png\"))\n",
    "    img.save(png_file, \"PNG\")"
   ]
  }
 ],
 "metadata": {
  "kernelspec": {
   "display_name": "ai_workshop",
   "language": "python",
   "name": "python3"
  },
  "language_info": {
   "codemirror_mode": {
    "name": "ipython",
    "version": 3
   },
   "file_extension": ".py",
   "mimetype": "text/x-python",
   "name": "python",
   "nbconvert_exporter": "python",
   "pygments_lexer": "ipython3",
   "version": "3.11.11"
  }
 },
 "nbformat": 4,
 "nbformat_minor": 2
}
